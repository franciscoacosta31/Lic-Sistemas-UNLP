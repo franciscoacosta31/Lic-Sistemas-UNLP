{
 "cells": [
  {
   "cell_type": "markdown",
   "metadata": {},
   "source": [
    "### EJERCICIO 5 | ENUNCIADO\n",
    "\n",
    "Para la aceptación de un artículo en un congreso se definen las siguientes especificaciones que deben cumplir y recomendaciones de escritura:\n",
    "\n",
    "- título:\n",
    "    - 10 palabras como máximo\n",
    "- cada oración del resumen:\n",
    "    - hasta 12 palabras: fácil de leer\n",
    "    - entre 13-17 palabras: aceptable para leer\n",
    "    - entre 18-25 palabras: difícil de leer\n",
    "    - mas de 25 palabras: muy difícil\n",
    "\n",
    "Es importante destacar que los números no se consideran palabras al momento del\n",
    "análisis por su facilidad de lectura.\n",
    "\n",
    "Dado un artículo en formato string, defina si cumple las especificaciones del título y\n",
    "cuántas oraciones tiene de cada categoría. El formato estándar en que recibe el string\n",
    "tiene la siguiente forma:\n",
    "\n",
    "```python\n",
    "article = \"\"\" título: Experiences in Developing a Distributed Agent-based Modeling Toolkit with Python Version 3\n",
    "resumen: Distributed agent-based modeling (ABM) on high-performance computing resources provides the promise of capturing unprecedented details of large-scale complex systems. However, the specialized knowledge required for developing such ABMs creates barriers to wider adoption and utilization. Here we present our experiences in developing an initial implementation of Repast4Py, a Python-based distributed ABM toolkit. We build on our experiences in developing ABM toolkits, including Repast for High Performance Computing (Repast HPC), to identify the key elements of a useful distributed ABM toolkit. We leverage the Numba, NumPy, and PyTorch packages and the En este ejemplo se debe informar: Python C-API to create a scalable modeling system that can exploit the largest HPC resources and emerging computing architectures. \"\"\"\n",
    "```\n",
    "En este ejemplo se debe informar:\n",
    "- titulo: not ok\n",
    "- Cantidad de oraciones fáciles de leer: 1, aceptables para leer: 2, dificil de leer: 1, muy dificil de leer: 2"
   ]
  },
  {
   "cell_type": "markdown",
   "metadata": {},
   "source": [
    "Declaro el articulo y separo el titulo del resumen"
   ]
  },
  {
   "cell_type": "code",
   "execution_count": null,
   "metadata": {},
   "outputs": [],
   "source": [
    "article = \"\"\" título: Experiences in Developing a Distributed Agent-based Modeling Toolkit with Python Version 3\n",
    "resumen: Distributed agent-based modeling (ABM) on high-performance computing resources provides the promise of capturing unprecedented details of large-scale complex systems. However, the specialized knowledge required for developing such ABMs creates barriers to wider adoption and utilization. Here we present our experiences in developing an initial implementation of Repast4Py, a Python-based distributed ABM toolkit. We build on our experiences in developing ABM toolkits, including Repast for High Performance Computing (Repast HPC), to identify the key elements of a useful distributed ABM toolkit. We leverage the Numba, NumPy, and PyTorch packages and the Python C-API to create a scalable modeling system that can exploit the largest HPC resources and emerging computing architectures. \"\"\"\n",
    "\n",
    "article = article.split(\"\\n\")\n",
    "\n",
    "title = article[0][9:]\n",
    "resume = article[1][9:]"
   ]
  },
  {
   "cell_type": "markdown",
   "metadata": {},
   "source": [
    "Verifico si el título cumple la condición"
   ]
  },
  {
   "cell_type": "code",
   "execution_count": null,
   "metadata": {},
   "outputs": [],
   "source": [
    "wordsInTitle = title.split()\n",
    "if len(wordsInTitle)-1 <= 10:\n",
    "    print(\"title: ok\")\n",
    "else:\n",
    "    print(\"title: not ok\")"
   ]
  },
  {
   "cell_type": "markdown",
   "metadata": {},
   "source": [
    "Separo el resumen por oraciones, clasifico cada oracion según su dificultad y hago el print"
   ]
  },
  {
   "cell_type": "code",
   "execution_count": null,
   "metadata": {},
   "outputs": [],
   "source": [
    "sentences = resume.split(\".\")\n",
    "easy = 0\n",
    "medium = 0\n",
    "hard = 0\n",
    "very_hard = 0\n",
    "for sentence in sentences:\n",
    "    words = len(sentence.split())\n",
    "    if words <= 12: easy+= 1\n",
    "    elif 13 <= words <= 17: medium+= 1\n",
    "    elif 18 <= words <= 25: hard+=1\n",
    "    else: very_hard+= 1\n",
    "    \n",
    "print(f\"Cantidad de oraciones faciles de leer:{easy} aceptables para leer{medium} dificil de leer:{hard} muy dificil de leer:{very_hard}\")"
   ]
  }
 ],
 "metadata": {
  "kernelspec": {
   "display_name": "venv",
   "language": "python",
   "name": "python3"
  },
  "language_info": {
   "codemirror_mode": {
    "name": "ipython",
    "version": 3
   },
   "file_extension": ".py",
   "mimetype": "text/x-python",
   "name": "python",
   "nbconvert_exporter": "python",
   "pygments_lexer": "ipython3",
   "version": "3.11.0"
  }
 },
 "nbformat": 4,
 "nbformat_minor": 2
}

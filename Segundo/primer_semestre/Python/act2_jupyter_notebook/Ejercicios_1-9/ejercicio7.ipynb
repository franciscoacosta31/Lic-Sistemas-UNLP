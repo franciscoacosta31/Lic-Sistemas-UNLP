{
 "cells": [
  {
   "cell_type": "markdown",
   "metadata": {},
   "source": [
    "### EJERCICIO 7 | ENUNCIADO\n",
    "\n",
    "**Dada una frase contar mayúsculas, minúsculas, caracteres no letras y al cantidad de palabras.**"
   ]
  },
  {
   "cell_type": "markdown",
   "metadata": {},
   "source": [
    "Declaro la frase"
   ]
  },
  {
   "cell_type": "code",
   "execution_count": null,
   "metadata": {},
   "outputs": [],
   "source": [
    "phrase = \"\"\" La brecha salarial alcanzó el 27,7%: las mujeres ocupadas debieron trabajar 8 días y 10 horas más que los varones ocupados para ganar lo mismo que ellos en un mes. \"\"\""
   ]
  },
  {
   "cell_type": "markdown",
   "metadata": {},
   "source": [
    "Llamo al módulo string y declaro las variables a contar"
   ]
  },
  {
   "cell_type": "code",
   "execution_count": null,
   "metadata": {},
   "outputs": [],
   "source": [
    "import string\n",
    "\n",
    "uppercase = string.ascii_uppercase +'Á'+'É'+'Í'+'Ó'+'Ú'\n",
    "lowercase = string.ascii_lowercase +'á'+'é'+'í'+'ó'+'ú'\n",
    "\n",
    "uppercase_count = 0\n",
    "lowercase_count = 0\n",
    "non_letter_count = 0"
   ]
  },
  {
   "cell_type": "markdown",
   "metadata": {},
   "source": [
    "Elimino los caracteres especiales y los números para contar la cantidad de palabras"
   ]
  },
  {
   "cell_type": "code",
   "execution_count": null,
   "metadata": {},
   "outputs": [],
   "source": [
    "phrase2 = phrase\n",
    "characters = ('.',',',':','%','0','1','2','3','4','5','6','7','8','9')\n",
    "\n",
    "for character in characters:\n",
    "    phrase2 = phrase2.replace(character,'')\n",
    "\n",
    "words_count = len(phrase2.split())"
   ]
  },
  {
   "cell_type": "markdown",
   "metadata": {},
   "source": [
    "Analizo cada letra y sumo la variable correspondiente"
   ]
  },
  {
   "cell_type": "code",
   "execution_count": null,
   "metadata": {},
   "outputs": [],
   "source": [
    "words = phrase.split()\n",
    "for word in words:\n",
    "    for letter in word:\n",
    "        if letter in uppercase:\n",
    "            uppercase_count+= 1\n",
    "        elif letter in lowercase:\n",
    "            lowercase_count+= 1\n",
    "        else:\n",
    "            non_letter_count+= 1\n",
    "\n",
    "print(f\"Mayusculas:{uppercase_count}, minúsculas:{lowercase_count}, caracteres no letras:{non_letter_count}, cantidad de palabras:{words_count}\")"
   ]
  }
 ],
 "metadata": {
  "kernelspec": {
   "display_name": "venv",
   "language": "python",
   "name": "python3"
  },
  "language_info": {
   "codemirror_mode": {
    "name": "ipython",
    "version": 3
   },
   "file_extension": ".py",
   "mimetype": "text/x-python",
   "name": "python",
   "nbconvert_exporter": "python",
   "pygments_lexer": "ipython3",
   "version": "3.11.0"
  }
 },
 "nbformat": 4,
 "nbformat_minor": 2
}

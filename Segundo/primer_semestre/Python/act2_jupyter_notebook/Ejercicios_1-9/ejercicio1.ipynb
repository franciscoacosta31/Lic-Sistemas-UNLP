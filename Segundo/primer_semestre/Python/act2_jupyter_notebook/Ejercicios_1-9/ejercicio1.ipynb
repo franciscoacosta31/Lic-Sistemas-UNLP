{
 "cells": [
  {
   "cell_type": "markdown",
   "metadata": {},
   "source": [
    "### EJERCICIO 1 | ENUNCIADO\n",
    "\n",
    "**Tomando el texto del README.md de numpy, copiar y pegar el texto en una variable, luego imprima todas las líneas cuya segunda palabra comience con una vocal (A, E, I, O, U, a, e, i, o, u)**"
   ]
  },
  {
   "cell_type": "markdown",
   "metadata": {},
   "source": [
    "Declaro las variables"
   ]
  },
  {
   "cell_type": "code",
   "execution_count": null,
   "metadata": {},
   "outputs": [],
   "source": [
    "text = \"\"\"NumPy is the fundamental package for scientific computing with Python.\n",
    "It provides: \n",
    "a powerful N-dimensional array object\n",
    "sophisticated (broadcasting) functions\n",
    "tools for integrating C/C++ and Fortran code\n",
    "useful linear algebra, Fourier transform, and random number capabilities\n",
    "Testing:\n",
    "NumPy requires pytest and hypothesis. Tests can then be run after installation with:\n",
    "python -c \"import numpy, sys; sys.exit(numpy.test() is False)\"\n",
    "Code of Conduct\n",
    "NumPy is a community-driven open source project developed by a diverse group of contributors. The NumPy leadership has made a strong commitment to creating an open, inclusive, and positive community. Please read the NumPy Code of Conduct for guidance on how to interact with others in a way that makes our community thrive.\n",
    "Call for Contributions\n",
    "The NumPy project welcomes your expertise and enthusiasm!\n",
    "Small improvements or fixes are always appreciated. If you are considering larger contributions to the source code, please contact us through the mailing list first.\n",
    "Writing code isn’t the only way to contribute to NumPy. You can also:\n",
    "review pull requests\n",
    "help us stay on top of new and old issues\n",
    "develop tutorials, presentations, and other educational materials\n",
    "maintain and improve our website\n",
    "develop graphic design for our brand assets and promotional materials\n",
    "translate website content\n",
    "help with outreach and onboard new contributors\n",
    "write grant proposals and help with other fundraising efforts\n",
    "For more information about the ways you can contribute to NumPy, visit our website. If you’re unsure where to start or how your skills fit in, reach out! You can ask on the mailing list or here, on GitHub, by opening a new issue or leaving a comment on a relevant issue that is already open.\n",
    "Our preferred channels of communication are all public, but if you’d like to speak to us in private first, contact our community coordinators at numpy-team@googlegroups.com or on Slack (write numpy-team@googlegroups.com for an invitation).\n",
    "We also have a biweekly community call, details of which are announced on the mailing list. You are very welcome to join.\n",
    "If you are new to contributing to open source, this guide helps explain why, what, and how to successfully get involved.\"\"\"\n",
    "\n",
    "vowels = ('a','e','i','o','u')"
   ]
  },
  {
   "cell_type": "markdown",
   "metadata": {},
   "source": [
    "Elimino los caracteres especiales del texto, paso el texto a minuscula y lo separo en una lista por linea."
   ]
  },
  {
   "cell_type": "code",
   "execution_count": null,
   "metadata": {},
   "outputs": [],
   "source": [
    "characters = ('.',',',':',';','/','+','-','(',')',\"'\",'´','\"','’','@')\n",
    "\n",
    "for character in characters:\n",
    "    text = text.replace(character,'')\n",
    "    \n",
    "text = text.lower()    \n",
    "\n",
    "lines = text.split(\"\\n\")"
   ]
  },
  {
   "cell_type": "markdown",
   "metadata": {},
   "source": [
    "Analizo cada linea verificando que la segunda palabra comience con una vocal para imprimirla"
   ]
  },
  {
   "cell_type": "code",
   "execution_count": null,
   "metadata": {},
   "outputs": [],
   "source": [
    "for line in lines:\n",
    "    words = line.split()\n",
    "    if len(words) > 1 and  words[1][0] in vowels:\n",
    "        print(line)"
   ]
  }
 ],
 "metadata": {
  "kernelspec": {
   "display_name": "venv",
   "language": "python",
   "name": "python3"
  },
  "language_info": {
   "codemirror_mode": {
    "name": "ipython",
    "version": 3
   },
   "file_extension": ".py",
   "mimetype": "text/x-python",
   "name": "python",
   "nbconvert_exporter": "python",
   "pygments_lexer": "ipython3",
   "version": "3.11.0"
  }
 },
 "nbformat": 4,
 "nbformat_minor": 2
}

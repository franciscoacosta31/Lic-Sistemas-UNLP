{
 "cells": [
  {
   "cell_type": "markdown",
   "metadata": {},
   "source": [
    "### EJERCICIO 4 | ENUNCIADO\n",
    "\n",
    "**Dado el siguiente código que informa si la letra a se encuentra en una palabra ingresada por teclado:**\n",
    "\n",
    "\n",
    "Código:\n",
    "\n",
    "```python\n",
    "   word = input(\"Ingresá una palabra: \")\n",
    "   if \"a\" in word:  \n",
    "      print(\"Hay al menos una letra a.\")\n",
    "   else:\n",
    "      print(\"No hay letras a. \")\n",
    "```\n",
    "\n",
    "Salida:\n",
    "\n",
    "Ingresá una palabra: mundo\n",
    "\n",
    "No hay letras a.\n",
    "\n",
    "**Si ahora queremos saber si contiene la letra a y también la letra n, ¿cómo lo modificamos?**"
   ]
  },
  {
   "cell_type": "markdown",
   "metadata": {},
   "source": [
    "Agrego la condición de que haya una letra n y modifico las salidas en los casos posibles"
   ]
  },
  {
   "cell_type": "code",
   "execution_count": null,
   "metadata": {},
   "outputs": [],
   "source": [
    "word = input(\"Ingresá una palabra: \")\n",
    "\n",
    "if \"a\" and \"n\" in word:  \n",
    "    print(\"Hay al menos una letra a y una letra n.\")\n",
    "elif \"a\" in word:\n",
    "    print(\"No hay letras n.\")\n",
    "elif \"n\" in word:\n",
    "    print(\"No hay letras a.\")\n",
    "else:\n",
    "    print(\"No hay letras a ni letras n.\")"
   ]
  }
 ],
 "metadata": {
  "kernelspec": {
   "display_name": "venv",
   "language": "python",
   "name": "python3"
  },
  "language_info": {
   "codemirror_mode": {
    "name": "ipython",
    "version": 3
   },
   "file_extension": ".py",
   "mimetype": "text/x-python",
   "name": "python",
   "nbconvert_exporter": "python",
   "pygments_lexer": "ipython3",
   "version": "3.11.0"
  }
 },
 "nbformat": 4,
 "nbformat_minor": 2
}
